{
 "cells": [
  {
   "cell_type": "code",
   "execution_count": 1,
   "id": "b87f82d2",
   "metadata": {
    "lines_to_next_cell": 1
   },
   "outputs": [],
   "source": [
    "import argparse\n",
    "import jax\n",
    "import jax.numpy as jnp\n",
    "from jax.experimental import pallas"
   ]
  },
  {
   "cell_type": "code",
   "execution_count": 2,
   "id": "4f8ad1c7-12d2-49be-aff6-763ce9abf1db",
   "metadata": {
    "lines_to_next_cell": 1
   },
   "outputs": [],
   "source": [
    "# Configure JAX to use CPU\n",
    "jax.config.update('jax_platform_name', 'cpu')"
   ]
  },
  {
   "cell_type": "code",
   "execution_count": 5,
   "id": "846c2c40-ea0d-4250-b1be-1e89d5820464",
   "metadata": {
    "lines_to_next_cell": 1
   },
   "outputs": [
    {
     "name": "stdout",
     "output_type": "stream",
     "text": [
      "Creating random tensors\n",
      "Random tensors created\n"
     ]
    }
   ],
   "source": [
    "# Create small tensors for testing\n",
    "BATCH = 1\n",
    "HEADS = 2\n",
    "SEQ_LEN = 8\n",
    "HEAD_DIM = 4\n",
    "\n",
    "print(\"Creating random tensors\")\n",
    "K = jax.random.normal(jax.random.key(0), (BATCH, HEADS, SEQ_LEN, HEAD_DIM))\n",
    "V = jax.random.normal(jax.random.key(1), (BATCH, HEADS, SEQ_LEN, HEAD_DIM))\n",
    "Q = jax.random.normal(jax.random.key(2), (BATCH, HEADS, SEQ_LEN, HEAD_DIM))\n",
    "print(\"Random tensors created\")"
   ]
  },
  {
   "cell_type": "code",
   "execution_count": 6,
   "id": "d1346db5-ca47-418a-a650-5e3675bb75d7",
   "metadata": {},
   "outputs": [
    {
     "data": {
      "text/plain": [
       "Array([[ 1.6226422 ,  2.0252647 , -0.43359444, -0.07861735],\n",
       "       [ 0.1760909 , -0.97208923, -0.49529874,  0.4943786 ],\n",
       "       [ 0.6643493 , -0.9501635 ,  2.1795304 , -1.9551506 ],\n",
       "       [ 0.35857072,  0.15779513,  1.2770847 ,  1.5104648 ],\n",
       "       [ 0.970656  ,  0.59960806,  0.0247007 , -1.9164772 ],\n",
       "       [-1.8593491 ,  1.728144  ,  0.04719035,  0.814128  ],\n",
       "       [ 0.13132767,  0.28284705,  1.2435943 ,  0.6902801 ],\n",
       "       [-0.80073744, -0.74099   , -1.5388287 ,  0.30269185]],      dtype=float32)"
      ]
     },
     "execution_count": 6,
     "metadata": {},
     "output_type": "execute_result"
    }
   ],
   "source": [
    "K[0][0][:]"
   ]
  },
  {
   "cell_type": "code",
   "execution_count": 7,
   "id": "0a8af869-565f-41c3-b147-a987c2442ef0",
   "metadata": {},
   "outputs": [
    {
     "data": {
      "text/plain": [
       "Array([[ 0.36057416,  1.2849895 , -0.73873436,  1.1830745 ],\n",
       "       [-0.20641916, -0.8333566 ,  0.6233476 , -0.88721675],\n",
       "       [ 0.6922108 ,  0.8711505 ,  1.4978964 , -1.32336   ],\n",
       "       [ 1.6417218 , -0.46518597,  0.4113348 ,  0.8994859 ],\n",
       "       [-0.39429244,  0.3383484 , -0.88536334, -1.8190236 ],\n",
       "       [-0.38549703, -0.1720128 , -0.7236013 , -1.852459  ],\n",
       "       [-0.14248204, -0.23113886, -2.6718314 , -0.07999262],\n",
       "       [-0.9395458 , -0.9943608 ,  2.2809246 ,  0.91642076]],      dtype=float32)"
      ]
     },
     "execution_count": 7,
     "metadata": {},
     "output_type": "execute_result"
    }
   ],
   "source": [
    "Q[0][0][:]"
   ]
  },
  {
   "cell_type": "code",
   "execution_count": 8,
   "id": "c74e2bf4-1c19-4674-9fab-38587ce846b6",
   "metadata": {},
   "outputs": [
    {
     "data": {
      "text/plain": [
       "Array([[-0.15443718,  0.08470728, -0.13598049, -0.15503626],\n",
       "       [ 1.2666674 ,  0.14829758,  2.1415603 ,  1.0026742 ],\n",
       "       [-0.29033586,  0.3583448 , -0.70792735, -0.24555527],\n",
       "       [ 0.8855825 ,  0.7861191 ,  0.88892716,  0.54932535],\n",
       "       [ 0.9658084 , -1.797185  ,  0.86045414, -1.6176059 ],\n",
       "       [-0.05994489, -1.5054733 , -1.0007281 ,  0.64356536],\n",
       "       [-1.6915705 ,  0.5178627 ,  0.7885133 , -1.1122868 ],\n",
       "       [-0.40614718, -1.1358441 ,  1.1137921 , -0.3322445 ]],      dtype=float32)"
      ]
     },
     "execution_count": 8,
     "metadata": {},
     "output_type": "execute_result"
    }
   ],
   "source": [
    "V[0][0][:]"
   ]
  },
  {
   "cell_type": "markdown",
   "id": "7304b51c",
   "metadata": {},
   "source": [
    "https://www.youtube.com/watch?v=IvgV6QcsC64\n",
    "\n",
    "![./einsum_overview.png](einsum_overview.png)\n",
    "![./einsum_element_wise_multiplication.png](einsum_element_wise_multiplication.png)\n",
    "![./einsum_rule_1.png](einsum_rule_1.png)\n",
    "![./einsum_rule_3-4.png](einsum_rule_3-4.png)\n",
    "![./einsum_summation_along_axis.png](einsum_summation_along_axis.png)\n"
   ]
  },
  {
   "cell_type": "code",
   "execution_count": 9,
   "id": "d2fd1b91",
   "metadata": {},
   "outputs": [
    {
     "name": "stdout",
     "output_type": "stream",
     "text": [
      "Method 1: Using nested for loops\n",
      "Result using for loops:\n",
      "[30, 36, 42]\n",
      "[66, 81, 96]\n",
      "[102, 126, 150]\n",
      "\n",
      "Method 2: Using numpy einsum\n",
      "Result using einsum:\n",
      "[[ 30  36  42]\n",
      " [ 66  81  96]\n",
      " [102 126 150]]\n"
     ]
    }
   ],
   "source": [
    "# Matrix a\n",
    "# create a 3x3 matrix\n",
    "a = [[1,2,3],\n",
    "     [4,5,6],\n",
    "     [7,8,9]]\n",
    "\n",
    "# Matrix b\n",
    "b = [[1,2,3],\n",
    "     [4,5,6],\n",
    "     [7,8,9]]\n",
    "\n",
    "print(\"Method 1: Using nested for loops\")\n",
    "# Initialize result matrix with zeros\n",
    "result_loops = [[0 for x in range(len(b[0]))] for y in range(len(a))]\n",
    "\n",
    "# Iterate through rows of a\n",
    "for i in range(len(a)):\n",
    "    # Iterate through columns of b\n",
    "    for j in range(len(b[0])):\n",
    "        # Iterate through rows of b\n",
    "        for k in range(len(b)):\n",
    "            result_loops[i][j] += a[i][k] * b[k][j]\n",
    "\n",
    "print(\"Result using for loops:\")\n",
    "for row in result_loops:\n",
    "    print(row)\n",
    "\n",
    "print(\"\\nMethod 2: Using numpy einsum\")\n",
    "import numpy as np\n",
    "a_np = np.array(a)\n",
    "b_np = np.array(b)\n",
    "result_einsum = np.einsum('ik,kj->ij', a_np, b_np)\n",
    "\n",
    "print(\"Result using einsum:\")\n",
    "print(result_einsum)\n"
   ]
  },
  {
   "cell_type": "code",
   "execution_count": 32,
   "id": "fcb565af-e595-4ae1-b880-ddca780ccf14",
   "metadata": {
    "lines_to_next_cell": 1
   },
   "outputs": [],
   "source": [
    "def attention_ourselves(_Q, _K, _V):\n",
    "    print(\"Computing attention weights\")\n",
    "    _weights_unnormalized = jax.numpy.einsum(\"bshd,bthd -> bhst\", _Q, _K)\n",
    "    _weights = jax.nn.softmax(_weights_unnormalized)\n",
    "    output = jax.numpy.einsum(\"bhst,bshd -> bshd\", _weights, _V)\n",
    "    print(\"Weights computed successfully\")\n",
    "    breakpoint()\n",
    "    return output\n"
   ]
  },
  {
   "cell_type": "code",
   "execution_count": 33,
   "id": "51d51310-a95c-4d7f-a4ff-32ddc8dc4476",
   "metadata": {
    "lines_to_next_cell": 1
   },
   "outputs": [
    {
     "name": "stdout",
     "output_type": "stream",
     "text": [
      "Calling attention function\n",
      "Computing attention weights\n",
      "Weights computed successfully\n",
      "Function completed\n"
     ]
    }
   ],
   "source": [
    "print(\"Calling attention function\")\n",
    "result = attention_ourselves(Q, K, V)\n",
    "att_value = pallas.attention(Q, K, V, segment_ids=None)\n",
    "print(\"Function completed\")\n",
    "\n"
   ]
  },
  {
   "cell_type": "code",
   "execution_count": 4,
   "id": "6a1e5f74",
   "metadata": {},
   "outputs": [
    {
     "name": "stdout",
     "output_type": "stream",
     "text": [
      "Starting standalone_test.py\n"
     ]
    },
    {
     "name": "stderr",
     "output_type": "stream",
     "text": [
      "usage: ipykernel_launcher.py [-h] [--l5-p1]\n",
      "ipykernel_launcher.py: error: unrecognized arguments: -f /home/ext_isaackkaranja_google_com/.local/share/jupyter/runtime/kernel-3b825520-81fa-4cda-85af-cea12c5b5658.json\n"
     ]
    },
    {
     "ename": "SystemExit",
     "evalue": "2",
     "output_type": "error",
     "traceback": [
      "An exception has occurred, use %tb to see the full traceback.\n",
      "\u001b[0;31mSystemExit\u001b[0m\u001b[0;31m:\u001b[0m 2\n"
     ]
    },
    {
     "name": "stderr",
     "output_type": "stream",
     "text": [
      "/home/ext_isaackkaranja_google_com/.cache/pypoetry/virtualenvs/llm-jax-sJoV3LkG-py3.10/lib/python3.10/site-packages/IPython/core/interactiveshell.py:3587: UserWarning: To exit: use 'exit', 'quit', or Ctrl-D.\n",
      "  warn(\"To exit: use 'exit', 'quit', or Ctrl-D.\", stacklevel=1)\n"
     ]
    }
   ],
   "source": [
    "if __name__ == \"__main__\":\n",
    "    print(\"Starting standalone_test.py\")\n",
    "    args = parse_args()\n",
    "    print(f\"Parsed arguments: {args}\")\n",
    "\n",
    "    if args.l5_p1:\n",
    "        print(\"About to run lesson5_concept_1\")\n",
    "        lesson5_concept_1()\n",
    "        print(\"Finished running lesson5_concept_1\")\n",
    "    else:\n",
    "        print(\"No flag provided, running default behavior\")\n",
    "\n",
    "    print(\"Script completed\")"
   ]
  },
  {
   "cell_type": "code",
   "execution_count": null,
   "id": "21750b83-02de-440d-a1b8-c3660802f41a",
   "metadata": {},
   "outputs": [],
   "source": []
  }
 ],
 "metadata": {
  "jupytext": {
   "cell_metadata_filter": "-all",
   "main_language": "python",
   "notebook_metadata_filter": "-all"
  },
  "kernelspec": {
   "display_name": "Python 3 (ipykernel)",
   "language": "python",
   "name": "python3"
  },
  "language_info": {
   "codemirror_mode": {
    "name": "ipython",
    "version": 3
   },
   "file_extension": ".py",
   "mimetype": "text/x-python",
   "name": "python",
   "nbconvert_exporter": "python",
   "pygments_lexer": "ipython3",
   "version": "3.10.12"
  }
 },
 "nbformat": 4,
 "nbformat_minor": 5
}
